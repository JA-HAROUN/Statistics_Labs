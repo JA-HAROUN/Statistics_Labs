{
  "nbformat": 4,
  "nbformat_minor": 0,
  "metadata": {
    "colab": {
      "provenance": []
    },
    "kernelspec": {
      "name": "python3",
      "display_name": "Python 3"
    },
    "language_info": {
      "name": "python"
    }
  },
  "cells": [
    {
      "cell_type": "markdown",
      "source": [
        "# **Estimating Parameters of a Gamma Distribution**"
      ],
      "metadata": {
        "id": "J6T6lzR2A16b"
      }
    },
    {
      "cell_type": "markdown",
      "source": [
        "**Import Libraries**"
      ],
      "metadata": {
        "id": "XoqWwaqvFtkj"
      }
    },
    {
      "cell_type": "code",
      "source": [
        "import numpy as np\n",
        "import matplotlib.pyplot as plt\n",
        "from scipy.stats import gamma\n",
        "from scipy.optimize import minimize"
      ],
      "metadata": {
        "id": "k5qsucwAFrVx"
      },
      "execution_count": null,
      "outputs": []
    },
    {
      "cell_type": "markdown",
      "source": [
        "# Data Generation"
      ],
      "metadata": {
        "id": "viqwpSlhBoJO"
      }
    },
    {
      "cell_type": "markdown",
      "source": [
        "Simulate a sample data of size n from a Gamma(α, β) distribution using known\n",
        "parameters"
      ],
      "metadata": {
        "id": "_S1d_vL7A0q7"
      }
    },
    {
      "cell_type": "markdown",
      "source": [
        "Use at least five different size scales for n and use 10 different settings of α and β"
      ],
      "metadata": {
        "id": "eVqhkEZHBbC3"
      }
    },
    {
      "cell_type": "markdown",
      "source": [
        "5 Different Sample Sizes"
      ],
      "metadata": {
        "id": "j2gsNIYlLn8I"
      }
    },
    {
      "cell_type": "code",
      "source": [
        "SampleSize = [10, 100, 1000, 10000, 100000]"
      ],
      "metadata": {
        "id": "TlhU3uZILjkI"
      },
      "execution_count": null,
      "outputs": []
    },
    {
      "cell_type": "markdown",
      "source": [
        "Randomize 10 different Alpha and Beta pairs"
      ],
      "metadata": {
        "id": "qDVVOLQSLMBr"
      }
    },
    {
      "cell_type": "code",
      "source": [
        "AlphaBetaPairs = []\n",
        "\n",
        "for i in range(10):\n",
        "  alpha = round(np.random.uniform(low = 0,high = 5), 2)\n",
        "  beta = round(np.random.uniform(low = 0, high = 2.5), 2)\n",
        "  AlphaBetaPairs.append((alpha, beta))"
      ],
      "metadata": {
        "id": "I6RR4Jj7BhJW"
      },
      "execution_count": null,
      "outputs": []
    },
    {
      "cell_type": "markdown",
      "source": [
        "Getting the Gamma Distributions\n",
        "\n"
      ],
      "metadata": {
        "id": "YkSflfMMLOiB"
      }
    },
    {
      "cell_type": "code",
      "source": [
        "GammaDistributions = {}\n",
        "\n",
        "for A, B in AlphaBetaPairs :\n",
        "  # A <- alpha , B <- beta\n",
        "  dataForEachPair = []\n",
        "\n",
        "  # as numpy takes theta which is 1/beta\n",
        "\n",
        "  for n in SampleSize :\n",
        "    data = np.random.gamma(shape = A, scale = 1/B, size = n)\n",
        "    dataForEachPair.append(data)\n",
        "\n",
        "  GammaDistributions[(A, B)] = dataForEachPair"
      ],
      "metadata": {
        "id": "Y3qsd7RNLS4O"
      },
      "execution_count": null,
      "outputs": []
    },
    {
      "cell_type": "markdown",
      "source": [
        "# MLE"
      ],
      "metadata": {
        "id": "PZiI0JOIBuSW"
      }
    },
    {
      "cell_type": "markdown",
      "source": [
        "Obtain the log-likelihood of the gamma function. HINT: You can use the\n",
        "stats.gamma.logpdf function"
      ],
      "metadata": {
        "id": "hWIGwgoHBW0f"
      }
    },
    {
      "cell_type": "markdown",
      "source": [
        "Minimize the negative log-likelihood using the scipy minimize function"
      ],
      "metadata": {
        "id": "g5-3bTjsBkhe"
      }
    },
    {
      "cell_type": "markdown",
      "source": [
        "$$\n",
        "\\text{The likelihood function for the Gamma distribution with rate parameter } \\beta \\text{ is:}\n",
        "$$\n",
        "\n",
        "$$\n",
        "L(\\alpha, \\beta \\mid x_1, x_2, \\dots, x_n) = \\prod_{i=1}^{n} \\frac{\\beta^\\alpha}{\\Gamma(\\alpha)} x_i^{\\alpha - 1} e^{-\\beta x_i}\n",
        "$$\n",
        "\n",
        "$$\n",
        "\\text{The log-likelihood function is:}\n",
        "$$\n",
        "\n",
        "$$\n",
        "\\ell(\\alpha, \\beta) = n \\alpha \\log \\beta - n \\log \\Gamma(\\alpha) + (\\alpha - 1) \\sum_{i=1}^{n} \\log x_i - \\beta \\sum_{i=1}^{n} x_i\n",
        "$$\n"
      ],
      "metadata": {
        "id": "8Dd5BHASb19B"
      }
    },
    {
      "cell_type": "markdown",
      "source": [
        "$$\n",
        "\\text{Taking the derivatives of the log-likelihood function with respect to } \\alpha \\text{ and } \\beta, \\text{ we obtain:}\n",
        "$$\n",
        "\n",
        "### For \\( \\beta \\):\n",
        "\n",
        "$$\n",
        "\\frac{\\partial \\ell}{\\partial \\beta} = \\frac{n \\alpha}{\\beta} - \\sum_{i=1}^{n} x_i = 0\n",
        "$$\n",
        "\n",
        "Solving for \\( \\hat{\\beta} \\):\n",
        "\n",
        "$$\n",
        "\\hat{\\beta} = \\frac{n \\alpha}{\\sum_{i=1}^{n} x_i} = \\frac{\\alpha}{\\bar{x}}\n",
        "$$\n",
        "\n",
        "---\n",
        "\n",
        "### For \\( \\alpha \\):\n",
        "we use the digamma function \\( \\psi(\\alpha) \\):\n",
        "\n",
        "$$\n",
        "\\frac{\\partial \\ell}{\\partial \\alpha} = n \\log \\beta - n \\psi(\\alpha) + \\sum_{i=1}^{n} \\log x_i = 0\n",
        "$$\n",
        "\n",
        "Solving for \\( \\alpha \\):\n",
        "\n",
        "$$\n",
        "\\log \\hat{\\beta} - \\psi(\\hat{\\alpha}) + \\frac{1}{n} \\sum_{i=1}^{n} \\log x_i = 0\n",
        "$$"
      ],
      "metadata": {
        "id": "Il6tezWPd5ql"
      }
    },
    {
      "cell_type": "code",
      "source": [
        "# getting the negative log likelihood\n",
        "def negative_log_likelihood(AlphaBetaPairs) :\n",
        "  alpha, beta = AlphaBetaPairs\n",
        "  return -np.sum(gamma.logpdf(data, alpha, (1 / beta)))"
      ],
      "metadata": {
        "id": "y2Q9auzdBMoA"
      },
      "execution_count": null,
      "outputs": []
    },
    {
      "cell_type": "code",
      "source": [
        "# minimizing the negative = getting the maximum\n",
        "# L-BFGS-B is a good algorithm for dealing with bounds\n",
        "# the bounds are used to keep the parameters positive\n",
        "result = minimize(\n",
        "    negative_log_likelihood,\n",
        "    [1.0, 1.0],\n",
        "    method='L-BFGS-B',\n",
        "    bounds=[(1e-6, None), (1e-6, None)]\n",
        ")"
      ],
      "metadata": {
        "id": "lFP0DTRG40mU"
      },
      "execution_count": null,
      "outputs": []
    },
    {
      "cell_type": "code",
      "source": [
        "# getting the MLE\n",
        "MLE_alpha, MLE_beta = result.x"
      ],
      "metadata": {
        "id": "hgedkHKg5lJx"
      },
      "execution_count": null,
      "outputs": []
    },
    {
      "cell_type": "markdown",
      "source": [
        "# MME"
      ],
      "metadata": {
        "id": "A8cEYdIWBnCO"
      }
    },
    {
      "cell_type": "markdown",
      "source": [
        "Knowing that E[X] = αβ and Var(X) = αβ\n",
        "2\n",
        ". Find the moment estimators for α and β."
      ],
      "metadata": {
        "id": "6cPRhxbpB1G-"
      }
    },
    {
      "cell_type": "markdown",
      "source": [
        "### **Method of Moments Estimators (MME)**\n",
        "\n",
        "For the method of moments, we use the fact that the **mean** and **variance** of the Gamma distribution are:\n",
        "\n",
        "$$\n",
        "\\mu = \\frac{\\alpha}{\\beta}, \\quad \\sigma^2 = \\frac{\\alpha}{\\beta^2}\n",
        "$$\n",
        "\n",
        "Using sample moments, we estimate the mean and variance:\n",
        "\n",
        "$$\n",
        "\\hat{\\mu} = \\frac{1}{n} \\sum_{i=1}^{n} x_i, \\quad \\hat{\\sigma}^2 = \\frac{1}{n} \\sum_{i=1}^{n} (x_i - \\hat{\\mu})^2\n",
        "$$\n",
        "\n",
        "Now, solving for \\( \\alpha \\) and \\( \\beta \\):\n",
        "\n",
        "### For \\( \\beta \\):\n",
        "\n",
        "$$\n",
        "\\hat{\\beta} = \\frac{\\hat{\\alpha}}{\\hat{\\mu}}\n",
        "$$\n",
        "\n",
        "### For \\( \\alpha \\):\n",
        "\n",
        "$$\n",
        "\\hat{\\alpha} = \\frac{\\hat{\\mu}^2}{\\hat{\\sigma}^2}\n",
        "$$"
      ],
      "metadata": {
        "id": "mOcuFEiTgQev"
      }
    },
    {
      "cell_type": "code",
      "source": [],
      "metadata": {
        "id": "TRJyKVNXB4rH"
      },
      "execution_count": null,
      "outputs": []
    },
    {
      "cell_type": "markdown",
      "source": [
        "# Plotting"
      ],
      "metadata": {
        "id": "D8nsxxcXHN_p"
      }
    },
    {
      "cell_type": "code",
      "source": [],
      "metadata": {
        "id": "QC49YPkgHgGU"
      },
      "execution_count": null,
      "outputs": []
    }
  ]
}